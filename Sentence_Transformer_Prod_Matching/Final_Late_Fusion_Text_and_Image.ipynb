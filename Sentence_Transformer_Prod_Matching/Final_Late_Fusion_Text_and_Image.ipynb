{
  "nbformat": 4,
  "nbformat_minor": 0,
  "metadata": {
    "colab": {
      "provenance": []
    },
    "kernelspec": {
      "name": "python3",
      "display_name": "Python 3"
    },
    "language_info": {
      "name": "python"
    }
  },
  "cells": [
    {
      "cell_type": "code",
      "execution_count": null,
      "metadata": {
        "colab": {
          "base_uri": "https://localhost:8080/"
        },
        "id": "-M23WPc5WyR2",
        "outputId": "ffac90cd-885c-4f15-b001-2e615ce570e8"
      },
      "outputs": [
        {
          "output_type": "stream",
          "name": "stdout",
          "text": [
            "Requirement already satisfied: sentence-transformers in /usr/local/lib/python3.11/dist-packages (5.0.0)\n",
            "Requirement already satisfied: transformers<5.0.0,>=4.41.0 in /usr/local/lib/python3.11/dist-packages (from sentence-transformers) (4.54.0)\n",
            "Requirement already satisfied: tqdm in /usr/local/lib/python3.11/dist-packages (from sentence-transformers) (4.67.1)\n",
            "Requirement already satisfied: torch>=1.11.0 in /usr/local/lib/python3.11/dist-packages (from sentence-transformers) (2.6.0+cu124)\n",
            "Requirement already satisfied: scikit-learn in /usr/local/lib/python3.11/dist-packages (from sentence-transformers) (1.6.1)\n",
            "Requirement already satisfied: scipy in /usr/local/lib/python3.11/dist-packages (from sentence-transformers) (1.16.0)\n",
            "Requirement already satisfied: huggingface-hub>=0.20.0 in /usr/local/lib/python3.11/dist-packages (from sentence-transformers) (0.34.1)\n",
            "Requirement already satisfied: Pillow in /usr/local/lib/python3.11/dist-packages (from sentence-transformers) (11.3.0)\n",
            "Requirement already satisfied: typing_extensions>=4.5.0 in /usr/local/lib/python3.11/dist-packages (from sentence-transformers) (4.14.1)\n",
            "Requirement already satisfied: filelock in /usr/local/lib/python3.11/dist-packages (from huggingface-hub>=0.20.0->sentence-transformers) (3.18.0)\n",
            "Requirement already satisfied: fsspec>=2023.5.0 in /usr/local/lib/python3.11/dist-packages (from huggingface-hub>=0.20.0->sentence-transformers) (2025.3.0)\n",
            "Requirement already satisfied: packaging>=20.9 in /usr/local/lib/python3.11/dist-packages (from huggingface-hub>=0.20.0->sentence-transformers) (25.0)\n",
            "Requirement already satisfied: pyyaml>=5.1 in /usr/local/lib/python3.11/dist-packages (from huggingface-hub>=0.20.0->sentence-transformers) (6.0.2)\n",
            "Requirement already satisfied: requests in /usr/local/lib/python3.11/dist-packages (from huggingface-hub>=0.20.0->sentence-transformers) (2.32.3)\n",
            "Requirement already satisfied: hf-xet<2.0.0,>=1.1.3 in /usr/local/lib/python3.11/dist-packages (from huggingface-hub>=0.20.0->sentence-transformers) (1.1.5)\n",
            "Requirement already satisfied: networkx in /usr/local/lib/python3.11/dist-packages (from torch>=1.11.0->sentence-transformers) (3.5)\n",
            "Requirement already satisfied: jinja2 in /usr/local/lib/python3.11/dist-packages (from torch>=1.11.0->sentence-transformers) (3.1.6)\n",
            "Requirement already satisfied: nvidia-cuda-nvrtc-cu12==12.4.127 in /usr/local/lib/python3.11/dist-packages (from torch>=1.11.0->sentence-transformers) (12.4.127)\n",
            "Requirement already satisfied: nvidia-cuda-runtime-cu12==12.4.127 in /usr/local/lib/python3.11/dist-packages (from torch>=1.11.0->sentence-transformers) (12.4.127)\n",
            "Requirement already satisfied: nvidia-cuda-cupti-cu12==12.4.127 in /usr/local/lib/python3.11/dist-packages (from torch>=1.11.0->sentence-transformers) (12.4.127)\n",
            "Requirement already satisfied: nvidia-cudnn-cu12==9.1.0.70 in /usr/local/lib/python3.11/dist-packages (from torch>=1.11.0->sentence-transformers) (9.1.0.70)\n",
            "Requirement already satisfied: nvidia-cublas-cu12==12.4.5.8 in /usr/local/lib/python3.11/dist-packages (from torch>=1.11.0->sentence-transformers) (12.4.5.8)\n",
            "Requirement already satisfied: nvidia-cufft-cu12==11.2.1.3 in /usr/local/lib/python3.11/dist-packages (from torch>=1.11.0->sentence-transformers) (11.2.1.3)\n",
            "Requirement already satisfied: nvidia-curand-cu12==10.3.5.147 in /usr/local/lib/python3.11/dist-packages (from torch>=1.11.0->sentence-transformers) (10.3.5.147)\n",
            "Requirement already satisfied: nvidia-cusolver-cu12==11.6.1.9 in /usr/local/lib/python3.11/dist-packages (from torch>=1.11.0->sentence-transformers) (11.6.1.9)\n",
            "Requirement already satisfied: nvidia-cusparse-cu12==12.3.1.170 in /usr/local/lib/python3.11/dist-packages (from torch>=1.11.0->sentence-transformers) (12.3.1.170)\n",
            "Requirement already satisfied: nvidia-cusparselt-cu12==0.6.2 in /usr/local/lib/python3.11/dist-packages (from torch>=1.11.0->sentence-transformers) (0.6.2)\n",
            "Requirement already satisfied: nvidia-nccl-cu12==2.21.5 in /usr/local/lib/python3.11/dist-packages (from torch>=1.11.0->sentence-transformers) (2.21.5)\n",
            "Requirement already satisfied: nvidia-nvtx-cu12==12.4.127 in /usr/local/lib/python3.11/dist-packages (from torch>=1.11.0->sentence-transformers) (12.4.127)\n",
            "Requirement already satisfied: nvidia-nvjitlink-cu12==12.4.127 in /usr/local/lib/python3.11/dist-packages (from torch>=1.11.0->sentence-transformers) (12.4.127)\n",
            "Requirement already satisfied: triton==3.2.0 in /usr/local/lib/python3.11/dist-packages (from torch>=1.11.0->sentence-transformers) (3.2.0)\n",
            "Requirement already satisfied: sympy==1.13.1 in /usr/local/lib/python3.11/dist-packages (from torch>=1.11.0->sentence-transformers) (1.13.1)\n",
            "Requirement already satisfied: mpmath<1.4,>=1.1.0 in /usr/local/lib/python3.11/dist-packages (from sympy==1.13.1->torch>=1.11.0->sentence-transformers) (1.3.0)\n",
            "Requirement already satisfied: numpy>=1.17 in /usr/local/lib/python3.11/dist-packages (from transformers<5.0.0,>=4.41.0->sentence-transformers) (2.0.2)\n",
            "Requirement already satisfied: regex!=2019.12.17 in /usr/local/lib/python3.11/dist-packages (from transformers<5.0.0,>=4.41.0->sentence-transformers) (2024.11.6)\n",
            "Requirement already satisfied: tokenizers<0.22,>=0.21 in /usr/local/lib/python3.11/dist-packages (from transformers<5.0.0,>=4.41.0->sentence-transformers) (0.21.2)\n",
            "Requirement already satisfied: safetensors>=0.4.3 in /usr/local/lib/python3.11/dist-packages (from transformers<5.0.0,>=4.41.0->sentence-transformers) (0.5.3)\n",
            "Requirement already satisfied: joblib>=1.2.0 in /usr/local/lib/python3.11/dist-packages (from scikit-learn->sentence-transformers) (1.5.1)\n",
            "Requirement already satisfied: threadpoolctl>=3.1.0 in /usr/local/lib/python3.11/dist-packages (from scikit-learn->sentence-transformers) (3.6.0)\n",
            "Requirement already satisfied: MarkupSafe>=2.0 in /usr/local/lib/python3.11/dist-packages (from jinja2->torch>=1.11.0->sentence-transformers) (3.0.2)\n",
            "Requirement already satisfied: charset-normalizer<4,>=2 in /usr/local/lib/python3.11/dist-packages (from requests->huggingface-hub>=0.20.0->sentence-transformers) (3.4.2)\n",
            "Requirement already satisfied: idna<4,>=2.5 in /usr/local/lib/python3.11/dist-packages (from requests->huggingface-hub>=0.20.0->sentence-transformers) (3.10)\n",
            "Requirement already satisfied: urllib3<3,>=1.21.1 in /usr/local/lib/python3.11/dist-packages (from requests->huggingface-hub>=0.20.0->sentence-transformers) (2.5.0)\n",
            "Requirement already satisfied: certifi>=2017.4.17 in /usr/local/lib/python3.11/dist-packages (from requests->huggingface-hub>=0.20.0->sentence-transformers) (2025.7.14)\n"
          ]
        }
      ],
      "source": [
        "!pip install -U sentence-transformers"
      ]
    },
    {
      "cell_type": "code",
      "source": [
        "import torch\n",
        "import pandas as pd\n",
        "import numpy as np\n",
        "from sentence_transformers import SentenceTransformer, util\n",
        "from google.colab import drive"
      ],
      "metadata": {
        "id": "odn_67ttXGtW"
      },
      "execution_count": null,
      "outputs": []
    },
    {
      "cell_type": "code",
      "source": [
        "drive.mount('/content/drive')"
      ],
      "metadata": {
        "colab": {
          "base_uri": "https://localhost:8080/"
        },
        "id": "kBAtxXnRXnpK",
        "outputId": "55f306b2-c286-4ba3-ad1f-4090615f204f"
      },
      "execution_count": null,
      "outputs": [
        {
          "output_type": "stream",
          "name": "stdout",
          "text": [
            "Drive already mounted at /content/drive; to attempt to forcibly remount, call drive.mount(\"/content/drive\", force_remount=True).\n"
          ]
        }
      ]
    },
    {
      "cell_type": "code",
      "source": [
        "pairs_df = pd.read_excel('/content/drive/MyDrive/DS 677 - Sentence Transformer/Output Files/fused_matches (image_text first).xlsx')\n",
        "model = SentenceTransformer('/content/drive/MyDrive/DS 677 - Sentence Transformer/Output Files/model_mnr')"
      ],
      "metadata": {
        "id": "O1Ub7WZTXUYr"
      },
      "execution_count": null,
      "outputs": []
    },
    {
      "cell_type": "code",
      "source": [
        "# Encode text\n",
        "\n",
        "ulta_texts = pairs_df['Ulta'].tolist()\n",
        "sephora_texts = pairs_df['Sephora'].tolist()\n",
        "\n",
        "ulta_text_embeddings = model.encode(ulta_texts, convert_to_tensor=True)\n",
        "sephora_text_embeddings = model.encode(sephora_texts, convert_to_tensor=True)"
      ],
      "metadata": {
        "colab": {
          "base_uri": "https://localhost:8080/"
        },
        "id": "FjLJI462a4zv",
        "outputId": "69c60869-b2fc-411d-df97-e3ae896c2b26"
      },
      "execution_count": null,
      "outputs": [
        {
          "output_type": "stream",
          "name": "stderr",
          "text": [
            "/usr/local/lib/python3.11/dist-packages/torch/nn/modules/module.py:1750: FutureWarning: `encoder_attention_mask` is deprecated and will be removed in version 4.55.0 for `BertSdpaSelfAttention.forward`.\n",
            "  return forward_call(*args, **kwargs)\n"
          ]
        }
      ]
    },
    {
      "cell_type": "code",
      "source": [
        "# align the image embeddings with the product descriptions\n",
        "\n",
        "ulta_image_dict = torch.load('/content/drive/MyDrive/DS 677 - Sentence Transformer/CLIP_Embeddings/ulta_image_embeddings.pt')\n",
        "sephora_image_dict = torch.load('/content/drive/MyDrive/DS 677 - Sentence Transformer/CLIP_Embeddings/sephora_image_embeddings.pt')\n",
        "\n",
        "# Build aligned tensors\n",
        "ulta_image_embeddings = torch.stack([ulta_image_dict[name] for name in pairs_df['Ulta']])\n",
        "sephora_image_embeddings = torch.stack([sephora_image_dict[name] for name in pairs_df['Sephora']])\n"
      ],
      "metadata": {
        "id": "Q0Btdtb0ceP_"
      },
      "execution_count": null,
      "outputs": []
    },
    {
      "cell_type": "code",
      "source": [
        "from sklearn.decomposition import PCA\n",
        "\n",
        "alpha = 0.7\n",
        "\n",
        "# Convert to NumPy for PCA\n",
        "ulta_np = ulta_image_embeddings.numpy()\n",
        "sephora_np = sephora_image_embeddings.numpy()\n",
        "\n",
        "pca = PCA(n_components=384)\n",
        "ulta_pca = torch.tensor(pca.fit_transform(ulta_np), dtype=torch.float32)\n",
        "sephora_pca = torch.tensor(pca.fit_transform(sephora_np), dtype=torch.float32)\n",
        "\n",
        "# Combine with text\n",
        "\n",
        "ulta_combined = alpha * ulta_text_embeddings + (1 - alpha) * ulta_pca\n",
        "sephora_combined = alpha * sephora_text_embeddings + (1 - alpha) * sephora_pca"
      ],
      "metadata": {
        "id": "eusIAMnwjT0s"
      },
      "execution_count": null,
      "outputs": []
    },
    {
      "cell_type": "code",
      "source": [
        "cosine_similarities = util.cos_sim(ulta_combined, sephora_combined).diagonal()\n",
        "\n",
        "# compare with ground truth\n",
        "pairs_df['Combined_Cosine'] = cosine_similarities.cpu().numpy()\n",
        "\n",
        "# Evaluation (Spearman correlation with similarity scores)\n",
        "from scipy.stats import spearmanr\n",
        "spearman_corr = spearmanr(pairs_df['Combined_Cosine'], pairs_df['Score'])\n",
        "print(f\"Spearman Correlation (Combined Text + Image): {spearman_corr.correlation:.4f}\")"
      ],
      "metadata": {
        "colab": {
          "base_uri": "https://localhost:8080/"
        },
        "id": "AYHBgj7vas4q",
        "outputId": "da677f0e-cc28-40bf-aaf6-d52de4e79014"
      },
      "execution_count": null,
      "outputs": [
        {
          "output_type": "stream",
          "name": "stdout",
          "text": [
            "Spearman Correlation (Combined Text + Image): 0.2763\n"
          ]
        }
      ]
    },
    {
      "cell_type": "code",
      "source": [
        "from scipy.stats import spearmanr\n",
        "import matplotlib.pyplot as plt\n",
        "\n",
        "alphas = [round(a, 2) for a in np.linspace(0, 1, 21)]  # from 0.0 to 1.0\n",
        "correlations = []\n",
        "\n",
        "for alpha in alphas:\n",
        "    # Weighted fusion of text + PCA-projected image embeddings\n",
        "    ulta_combined = alpha * ulta_text_embeddings + (1 - alpha) * ulta_pca\n",
        "    sephora_combined = alpha * sephora_text_embeddings + (1 - alpha) * sephora_pca\n",
        "\n",
        "    # Compute cosine similarities\n",
        "    cosine_similarities = util.cos_sim(ulta_combined, sephora_combined).diagonal()\n",
        "\n",
        "    # Spearman correlation with ground truth\n",
        "    corr = spearmanr(cosine_similarities.cpu().numpy(), pairs_df['Score'])[0]\n",
        "    correlations.append(corr)\n",
        "\n",
        "    print(f\"alpha={alpha:.2f} → Spearman: {corr:.4f}\")\n"
      ],
      "metadata": {
        "colab": {
          "base_uri": "https://localhost:8080/"
        },
        "id": "04Q5MLxxkS-U",
        "outputId": "1f04adab-f4bb-4f26-d8c2-d167fe61b796"
      },
      "execution_count": null,
      "outputs": [
        {
          "output_type": "stream",
          "name": "stdout",
          "text": [
            "alpha=0.00 → Spearman: 0.1303\n",
            "alpha=0.05 → Spearman: 0.1303\n",
            "alpha=0.10 → Spearman: 0.1305\n",
            "alpha=0.15 → Spearman: 0.1309\n",
            "alpha=0.20 → Spearman: 0.1317\n",
            "alpha=0.25 → Spearman: 0.1329\n",
            "alpha=0.30 → Spearman: 0.1348\n",
            "alpha=0.35 → Spearman: 0.1376\n",
            "alpha=0.40 → Spearman: 0.1417\n",
            "alpha=0.45 → Spearman: 0.1477\n",
            "alpha=0.50 → Spearman: 0.1567\n",
            "alpha=0.55 → Spearman: 0.1702\n",
            "alpha=0.60 → Spearman: 0.1909\n",
            "alpha=0.65 → Spearman: 0.2234\n",
            "alpha=0.70 → Spearman: 0.2763\n",
            "alpha=0.75 → Spearman: 0.3640\n",
            "alpha=0.80 → Spearman: 0.5042\n",
            "alpha=0.85 → Spearman: 0.6790\n",
            "alpha=0.90 → Spearman: 0.7823\n",
            "alpha=0.95 → Spearman: 0.7859\n",
            "alpha=1.00 → Spearman: 0.7716\n"
          ]
        }
      ]
    },
    {
      "cell_type": "code",
      "source": [
        "plt.figure(figsize=(8, 5))\n",
        "plt.plot(alphas, correlations, marker='o')\n",
        "plt.title(\"Spearman Correlation vs Alpha (Text/Image Balance)\")\n",
        "plt.xlabel(\"Alpha (Text Weight)\")\n",
        "plt.ylabel(\"Spearman Correlation\")\n",
        "plt.grid(True)\n",
        "plt.show()\n"
      ],
      "metadata": {
        "colab": {
          "base_uri": "https://localhost:8080/",
          "height": 487
        },
        "id": "6UYlzcj6kZRs",
        "outputId": "bbb46dd1-6724-40f6-9ea1-d246982def68"
      },
      "execution_count": null,
      "outputs": [
        {
          "output_type": "display_data",
          "data": {
            "text/plain": [
              "<Figure size 800x500 with 1 Axes>"
            ],
            "image/png": "[encoded data removed]"
          },
          "metadata": {}
        }
      ]
    },
    {
      "cell_type": "markdown",
      "source": [
        "Image embeddings work well when:\n",
        "- Products are visually similar and from the same brand.\n",
        "\n",
        "- Appearance alone is a strong indicator of match (e.g., identical packaging)."
      ],
      "metadata": {
        "id": "EmW9AxBCZQ_0"
      }
    },
    {
      "cell_type": "code",
      "source": [],
      "metadata": {
        "id": "rDM0UTy-ZQwY"
      },
      "execution_count": null,
      "outputs": []
    }
  ]
}